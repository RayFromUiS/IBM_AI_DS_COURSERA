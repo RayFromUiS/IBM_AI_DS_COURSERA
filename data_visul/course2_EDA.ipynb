{
 "cells": [
  {
   "cell_type": "markdown",
   "metadata": {},
   "source": [
    "# Data Analysis and Hypothesis Testing\n"
   ]
  },
  {
   "cell_type": "markdown",
   "metadata": {},
   "source": [
    "## Why is Exploratory Data Analysis Necessary?"
   ]
  },
  {
   "cell_type": "markdown",
   "metadata": {},
   "source": [
    "Exploratory Data Analysis (EDA) is a de-facto standard part of the data science workflow. The goals of this part of the process vary with the given data and business opportunity, but in general practitioners use visualization tools, tabular summaries and hypothesis testing in order to:"
   ]
  },
  {
   "cell_type": "markdown",
   "metadata": {},
   "source": [
    "- Provide summary level insight into a data set\n",
    "- Uncover underlying patterns and structure in the data\n",
    "- Identify outliers, missing data and class balance issues\n",
    "- Carry out quality control checks"
   ]
  },
  {
   "cell_type": "markdown",
   "metadata": {},
   "source": [
    "Imagine you are part of a group of friends who decide to go to a movie with an unfamiliar title. This decision will likely lead the friends to ask a lot of questions. To get some answers they might learn about the cast, the crew, the reviews. It turns out review website Rotten Tomatoes has already done much of this EDA for you. It provides summary statistics, production shots and a link to the trailer. It goes without saying that these visuals will factor heavily into how you perceive the yet unseen film."
   ]
  },
  {
   "cell_type": "markdown",
   "metadata": {},
   "source": [
    "***Important:  For some business opportunities, a sound solution can be easily identified through thoughtful data visualization. Models are not always a part of the AI workflow.***"
   ]
  },
  {
   "cell_type": "markdown",
   "metadata": {},
   "source": [
    "Data scientists are largely familiar with EDA, its benefits and its place in the overall AI workflow, but this is one part of the workflow that will always have room for improvement. Data visualization and results communication are both analogous to downhill skiing—in just a few tries you can obtain the minimum level of proficiency, but it takes many years to become an expert. One challenge on the road to proficiency is the many options in how data can be visualized and similarly how results can be communicated. The general procedure for EDA has several aspects that are consistent despite the variation.  "
   ]
  },
  {
   "cell_type": "markdown",
   "metadata": {},
   "source": [
    "<img src='https://d3c33hcgiwev3.cloudfront.net/imageAssetProxy.v1/EtI5f_DdTKGSOX_w3byhgg_d579fdd07b0c3a46942811149e61a6e2_AIEW-Course-2-Graphic-v2.png?expiry=1610323200000&hmac=PBX5BzQXsn6RR3vG95RSo4pZWnUW1Szow2lLc7yJ1rw'/>"
   ]
  },
  {
   "cell_type": "markdown",
   "metadata": {},
   "source": [
    "### Example EDA Process"
   ]
  },
  {
   "cell_type": "markdown",
   "metadata": {},
   "source": [
    "1. Load data into pandas, NumPy or another similar tool and summarize the data\n",
    "2. Use tables, text and visualizations to tell the story that relates the business opportunity to the data\n",
    "3. Identify a strategy to deal with missing values\n",
    "4. Investigate the data and underlying business scenario with visualizations and hypothesis testing\n",
    "5. Communicate your findings\n"
   ]
  },
  {
   "cell_type": "markdown",
   "metadata": {},
   "source": [
    "***IMPORTANT:***  The AI enterprise workflow does not end here because communication is not an endpoint. Instead, it is a milestone in the overall workflow, the first of many such milestones. Keeping stakeholders informed as the workflow proceeds is a critical component for overall project success and the end of EDA is a natural time to communicate progress. Reporting your EDA findings in a design thinking playback meeting allows you to validate your findings with others and gain further insights from domain experts."
   ]
  },
  {
   "cell_type": "markdown",
   "metadata": {},
   "source": [
    "## Data Visualization: Through the Eyes of Our Working Example"
   ]
  },
  {
   "cell_type": "markdown",
   "metadata": {},
   "source": [
    "***“The first task in data science is always data visualization”***"
   ]
  },
  {
   "cell_type": "code",
   "execution_count": null,
   "metadata": {},
   "outputs": [],
   "source": []
  }
 ],
 "metadata": {
  "kernelspec": {
   "display_name": "Python 3",
   "language": "python",
   "name": "python3"
  },
  "language_info": {
   "codemirror_mode": {
    "name": "ipython",
    "version": 3
   },
   "file_extension": ".py",
   "mimetype": "text/x-python",
   "name": "python",
   "nbconvert_exporter": "python",
   "pygments_lexer": "ipython3",
   "version": "3.8.3"
  }
 },
 "nbformat": 4,
 "nbformat_minor": 4
}
